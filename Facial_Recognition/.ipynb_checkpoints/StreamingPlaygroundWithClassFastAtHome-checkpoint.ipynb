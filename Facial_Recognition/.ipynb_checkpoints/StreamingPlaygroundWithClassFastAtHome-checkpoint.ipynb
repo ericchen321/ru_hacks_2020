{
 "cells": [
  {
   "cell_type": "code",
   "execution_count": 3,
   "metadata": {},
   "outputs": [],
   "source": [
    "import os\n",
    "import sys\n",
    "#import PySpin\n",
    "import numpy as np\n",
    "import ipywidgets as widgets\n",
    "\n",
    "# Required for advanced widgets\n",
    "from traitlets import traitlets\n",
    "\n",
    "# Required for streaming\n",
    "import cv2\n",
    "import time\n",
    "from bokeh.plotting import figure, output_file, show\n",
    "from bokeh.io import output_notebook, show, push_notebook\n",
    "\n",
    "# For async operation\n",
    "import threading\n",
    "import asyncio"
   ]
  },
  {
   "cell_type": "code",
   "execution_count": 4,
   "metadata": {},
   "outputs": [],
   "source": [
    "streaming_toggle = widgets.ToggleButton(\n",
    "                        value=False,\n",
    "                        description='Start Streaming',\n",
    "                        disabled=False,\n",
    "                        button_style='info', # 'success', 'info', 'warning', 'danger' or ''\n",
    "                        tooltip='Streaming',\n",
    "                        icon='play'\n",
    "                    )\n",
    "sinference_switch = widgets.ToggleButton(\n",
    "                        value=False,\n",
    "                        description='Inference Enable',\n",
    "                        disabled=False,\n",
    "                        button_style='', # '', 'info', 'warning', 'danger' or ''\n",
    "                        tooltip='Turn on Inference',\n",
    "                        icon='binoculars'\n",
    "                      )\n",
    "inference_mode = widgets.ToggleButtons(\n",
    "                        options=['Detection', 'Classification'],\n",
    "                        description='Mode:',\n",
    "                        disabled=False,\n",
    "                        button_style='', # 'success', 'info', 'warning', 'danger' or ''\n",
    "                        tooltips=['This network determines the  most likely class given a set of\\\n",
    "                                  predetermined, trained options. Object detection can also provide a\\\n",
    "                                  location within the image (in the form of a \"bounding box\" surrounding the\\\n",
    "                                  class), and can detect multiple objects',\n",
    "                                  'This network determines the best option from a list of predetermined options\\\n",
    "                                  ; the camera gives a percentage that determines the likelihood of the currently\\\n",
    "                                  perceived image being one of the classes it has been trained to recognize.'],\n",
    "                      )\n",
    "\n",
    "inference_checkbox = widgets.Checkbox(\n",
    "                    value=False,\n",
    "                    description='Inference',\n",
    "                    disabled=False\n",
    "                )\n",
    "\n",
    "\n",
    "bounding_box_checkbox = widgets.Checkbox(\n",
    "                    value=False,\n",
    "                    description='Bounding Box',\n",
    "                    disabled=False\n",
    "                )"
   ]
  },
  {
   "cell_type": "code",
   "execution_count": 40,
   "metadata": {},
   "outputs": [
    {
     "data": {
      "text/plain": [
       "' INFERENCE HELPERs '"
      ]
     },
     "execution_count": 40,
     "metadata": {},
     "output_type": "execute_result"
    }
   ],
   "source": [
    "\"\"\" INFERENCE HELPERs \"\"\"\n",
    "\n"
   ]
  },
  {
   "cell_type": "code",
   "execution_count": 41,
   "metadata": {},
   "outputs": [],
   "source": [
    "def show_init_screen():\n",
    "    image_data = cv2.imread(\"welcome.jpeg\")\n",
    "    image_data = cv2.cvtColor(image_data, cv2.COLOR_BGR2RGBA)\n",
    "    image_data = cv2.flip(image_data, 0)\n",
    "    myImage.data_source.data['image']=[image_data]\n",
    "    push_notebook()\n",
    "    \n",
    "def get_box_count(image):\n",
    "    chunk_data = image.GetChunkData()\n",
    "    box_result = chunk_data.GetInferenceBoundingBoxResult()\n",
    "    box_count = box_result.GetBoxCount()\n",
    "    return box_count\n",
    "\n",
    "def get_box_result(image):\n",
    "    chunk_data = image.GetChunkData()\n",
    "    box_result = chunk_data.GetInferenceBoundingBoxResult()\n",
    "    return box_result\n",
    "\n",
    "def render_bounding_box(frame, box_count, box_result):\n",
    "    result_frame = cv2.rectangle(frame, (384,0),(510,128), (0,255,0),3)\n",
    "    result_frame = cv2.rectangle(frame, (500,0),(700,500), (0,255,0),3)\n",
    "    return result_frame\n",
    "    \n",
    "def image_resize(image, width = None, height = None, inter = cv2.INTER_AREA):\n",
    "    # initialize the dimensions of the image to be resized and\n",
    "    # grab the image size\n",
    "    dim = None\n",
    "    (h, w) = image.shape[:2]\n",
    "\n",
    "    # if both the width and height are None, then return the\n",
    "    # original image\n",
    "    if width is None and height is None:\n",
    "        return image\n",
    "\n",
    "    # check to see if the width is None\n",
    "    if width is None:\n",
    "        # calculate the ratio of the height and construct the\n",
    "        # dimensions\n",
    "        r = height / float(h)\n",
    "        dim = (int(w * r), height)\n",
    "\n",
    "    # otherwise, the height is None\n",
    "    else:\n",
    "        # calculate the ratio of the width and construct the\n",
    "        # dimensions\n",
    "        r = width / float(w)\n",
    "        dim = (width, int(h * r))\n",
    "\n",
    "    # resize the image\n",
    "    resized = cv2.resize(image, dim, interpolation = inter)\n",
    "\n",
    "    # return the resized image\n",
    "    return resized\n",
    "\n",
    "image_data = cv2.imread('welcome.jpeg')\n",
    "image_data = cv2.cvtColor(image_data, cv2.COLOR_BGR2RGBA)\n",
    "image_data = cv2.flip(image_data, 0)\n",
    "image_data = image_resize(image_data, height = 400)\n",
    "width = image_data.shape[1]\n",
    "height = image_data.shape[0]\n",
    "streaming_window = figure(x_range=(0,width), y_range=(0,height), \\\n",
    "                                       output_backend=\"webgl\", width=width, height=height)\n",
    "myImage = streaming_window.image_rgba(image=[image_data], x=0, y=0, dw=width, dh=height)\n",
    "\n"
   ]
  },
  {
   "cell_type": "code",
   "execution_count": 42,
   "metadata": {},
   "outputs": [],
   "source": [
    "class Streaming(object):    \n",
    "#     def __init__(self, cam):\n",
    "    def __init__(self):\n",
    "#         self.cam = cam\n",
    "        self.streaming_window = streaming_window\n",
    "        self.myImage = myImage\n",
    "        self.stopped = False\n",
    "        self.t2 = threading.Thread(target=self.update, args=())\n",
    "        \n",
    "    def start_thread(self):\n",
    "        self.t2.start()\n",
    "        return self\n",
    "    \n",
    "    def update(self):\n",
    "        while True:\n",
    "            if self.stopped:\n",
    "                return\n",
    "            \n",
    "            try:\n",
    "#                 image_result = self.cam.GetNextImage()\n",
    "#                 #  Ensure image completion\n",
    "#                 if image_result.IsIncomplete():\n",
    "#                     print('Image incomplete with image status %d ...' % image_result.GetImageStatus())\n",
    "#                 else:     \n",
    "                    t1 = time.time()\n",
    "#                     self.frame = image_result.GetNDArray()\n",
    "                    self.ret, self.frame = cv2.VideoCapture(0).read()\n",
    "                    self.frame = cv2.cvtColor(self.frame, cv2.COLOR_BGR2RGBA)\n",
    "                    self.frame = render_bounding_box(self.frame)\n",
    "                    self.frame = cv2.flip(self.frame, -1)\n",
    "                    self.frame = image_resize(self.frame, height = 400)\n",
    "                    self.myImage.data_source.data['image']=[self.frame]\n",
    "                    t2 = time.time()\n",
    "                    s = f\"\"\"{int(1/(t2-t1))} FPS\"\"\"\n",
    "                    self.streaming_window.title.text = s\n",
    "                    push_notebook()\n",
    "#                 image_result.Release()\n",
    "            except PySpin.SpinnakerException as ex:\n",
    "                print('Error: %s' % ex)\n",
    "                return False\n",
    "    \n",
    "    def read(self):\n",
    "        return self.frame\n",
    "    \n",
    "    def stop(self):\n",
    "        #self.t2.join()\n",
    "        self.stopped = True\n",
    "        self.t2.join()"
   ]
  },
  {
   "cell_type": "code",
   "execution_count": null,
   "metadata": {},
   "outputs": [],
   "source": []
  },
  {
   "cell_type": "code",
   "execution_count": 43,
   "metadata": {},
   "outputs": [],
   "source": [
    "\"\"\" BUTTON CLICK HANDLER \"\"\"\n",
    "# def on_start_streaming(cam):\n",
    "def on_start_streaming():\n",
    "    t = threading.currentThread()\n",
    "#     nodemap_tldevice = cam.GetTLDeviceNodeMap()\n",
    "#     cam.Init()\n",
    "#     nodemap = cam.GetNodeMap()\n",
    "#     cam.BeginAcquisition()\n",
    "#     stream = Streaming(cam).start()\n",
    "    stream = Streaming().start_thread()\n",
    "    while getattr(t, \"do_run\", True):\n",
    "        time.sleep(0.01)\n",
    "    stream.stop()\n",
    "#     cam.EndAcquisition()\n",
    "#     cam.DeInit()\n",
    "    print(\"Stopping as you wish.\")"
   ]
  },
  {
   "cell_type": "code",
   "execution_count": 44,
   "metadata": {},
   "outputs": [],
   "source": [
    "import asyncio\n",
    "def wait_for_change(widget, value):\n",
    "    future = asyncio.Future()\n",
    "    def getvalue(change):\n",
    "        # make the new value available\n",
    "        future.set_result(change.new)\n",
    "        widget.unobserve(getvalue, value)\n",
    "    widget.observe(getvalue, value)\n",
    "    #print(str(future) + \"From the function\")\n",
    "    return future"
   ]
  },
  {
   "cell_type": "code",
   "execution_count": 5,
   "metadata": {
    "scrolled": true
   },
   "outputs": [
    {
     "data": {
      "application/vnd.jupyter.widget-view+json": {
       "model_id": "b46f830edade40c697fb916b86063084",
       "version_major": 2,
       "version_minor": 0
      },
      "text/plain": [
       "Checkbox(value=False, description='Inference')"
      ]
     },
     "metadata": {},
     "output_type": "display_data"
    },
    {
     "data": {
      "application/vnd.jupyter.widget-view+json": {
       "model_id": "7fe608cf42b64271834f32ee622322f2",
       "version_major": 2,
       "version_minor": 0
      },
      "text/plain": [
       "Checkbox(value=False, description='Bounding Box')"
      ]
     },
     "metadata": {},
     "output_type": "display_data"
    },
    {
     "data": {
      "application/vnd.jupyter.widget-view+json": {
       "model_id": "1a1eac93034b44bdaae6aee15700562c",
       "version_major": 2,
       "version_minor": 0
      },
      "text/plain": [
       "ToggleButtons(description='Mode:', options=('Detection', 'Classification'), tooltips=('This network determines…"
      ]
     },
     "metadata": {},
     "output_type": "display_data"
    },
    {
     "data": {
      "application/vnd.jupyter.widget-view+json": {
       "model_id": "1186e1f78a5c4faeb276c8e22a98731a",
       "version_major": 2,
       "version_minor": 0
      },
      "text/plain": [
       "ToggleButton(value=False, button_style='info', description='Start Streaming', icon='play', tooltip='Streaming'…"
      ]
     },
     "metadata": {},
     "output_type": "display_data"
    },
    {
     "name": "stderr",
     "output_type": "stream",
     "text": [
      "Task exception was never retrieved\n",
      "future: <Task finished coro=<f() done, defined at <ipython-input-5-5dc5350b1045>:26> exception=NameError(\"name 'on_start_streaming' is not defined\")>\n",
      "Traceback (most recent call last):\n",
      "  File \"<ipython-input-5-5dc5350b1045>\", line 28, in f\n",
      "    t = threading.Thread(name= 't', target=on_start_streaming)\n",
      "NameError: name 'on_start_streaming' is not defined\n"
     ]
    }
   ],
   "source": [
    "# system = PySpin.System.GetInstance()\n",
    "# version = system.GetLibraryVersion()\n",
    "# cam_list = system.GetCameras()\n",
    "# num_cameras = cam_list.GetSize()\n",
    "\n",
    "# # This example only works with 1 camera is connected. \n",
    "# if num_cameras == 0:\n",
    "#     # Clear camera list before releasing system\n",
    "#     cam_list.Clear()\n",
    "\n",
    "#     # Release system instance\n",
    "#     system.ReleaseInstance()\n",
    "\n",
    "#     print('Not enough cameras!')\n",
    "#     exit()\n",
    "# elif num_cameras > 1:\n",
    "#     # Clear camera list before releasing system\n",
    "#     cam_list.Clear()\n",
    "\n",
    "#     # Release system instance\n",
    "#     system.ReleaseInstance()\n",
    "\n",
    "#     print('This example only works when 1 camera is connected.')\n",
    "#     exit()\n",
    "\n",
    "async def f():\n",
    "    #t = threading.Thread(name= 't', target=on_start_streaming, args=(cam_list[0],))\n",
    "    t = threading.Thread(name= 't', target=on_start_streaming)\n",
    "    output_notebook()\n",
    "    show(streaming_window, notebook_handle=True)\n",
    "    while True:\n",
    "        sys.stdout.write('\\r')\n",
    "        sys.stdout.write(\"Reading Value \")\n",
    "        sys.stdout.flush()            \n",
    "        x = await wait_for_change(streaming_toggle, 'value')\n",
    "        print(\"Value changed to %s\" %x)\n",
    "        if x == True:\n",
    "            print(\"Updating A\")\n",
    "            streaming_toggle.icon = 'stop'\n",
    "            streaming_toggle.description='Stop Streaming'\n",
    "            t.start() \n",
    "        else:\n",
    "            t.do_run = False\n",
    "            t.join() \n",
    "            show_init_screen()\n",
    "            print(\"Updating B\")\n",
    "            streaming_toggle.icon = 'play'\n",
    "            streaming_toggle.description='Start Streaming'\n",
    "            #t = threading.Thread(name= 't', target=on_start_streaming, args=(cam_list[0],))\n",
    "            t = threading.Thread(name= 't', target=on_start_streaming)\n",
    "\n",
    "asyncio.ensure_future(f())\n",
    "display(inference_checkbox)\n",
    "display(bounding_box_checkbox)\n",
    "display(inference_mode)\n",
    "display(streaming_toggle)"
   ]
  }
 ],
 "metadata": {
  "hide_input": false,
  "kernelspec": {
   "display_name": "Python 3",
   "language": "python",
   "name": "python3"
  },
  "language_info": {
   "codemirror_mode": {
    "name": "ipython",
    "version": 3
   },
   "file_extension": ".py",
   "mimetype": "text/x-python",
   "name": "python",
   "nbconvert_exporter": "python",
   "pygments_lexer": "ipython3",
   "version": "3.7.7"
  },
  "varInspector": {
   "cols": {
    "lenName": 16,
    "lenType": 16,
    "lenVar": 40
   },
   "kernels_config": {
    "python": {
     "delete_cmd_postfix": "",
     "delete_cmd_prefix": "del ",
     "library": "var_list.py",
     "varRefreshCmd": "print(var_dic_list())"
    },
    "r": {
     "delete_cmd_postfix": ") ",
     "delete_cmd_prefix": "rm(",
     "library": "var_list.r",
     "varRefreshCmd": "cat(var_dic_list()) "
    }
   },
   "types_to_exclude": [
    "module",
    "function",
    "builtin_function_or_method",
    "instance",
    "_Feature"
   ],
   "window_display": false
  }
 },
 "nbformat": 4,
 "nbformat_minor": 2
}
